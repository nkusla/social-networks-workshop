{
 "cells": [
  {
   "cell_type": "markdown",
   "metadata": {},
   "source": [
    "# Social networks workshop"
   ]
  },
  {
   "cell_type": "markdown",
   "metadata": {},
   "source": [
    "Run following command to copy datasets locally, if you are running this notebook inside of Google Collab"
   ]
  },
  {
   "cell_type": "code",
   "execution_count": null,
   "metadata": {},
   "outputs": [],
   "source": [
    "!git clone https://github.com/nkusla/social-networks-workshop.git"
   ]
  },
  {
   "cell_type": "markdown",
   "metadata": {},
   "source": [
    "### Some useful functions"
   ]
  },
  {
   "cell_type": "code",
   "execution_count": null,
   "metadata": {},
   "outputs": [],
   "source": [
    "def print_graph(graph: list, total_num_nodes: int) -> None:\n",
    "\tfor i in range(total_num_nodes):\n",
    "\t\tfor j in range(total_num_nodes):\n",
    "\t\t\tprint(graph[i][j], end=\" \")\n",
    "\t\tprint()"
   ]
  },
  {
   "cell_type": "code",
   "execution_count": null,
   "metadata": {},
   "outputs": [],
   "source": [
    "def mat_mul(A: list, B: list, size: int) -> list:\n",
    "\tresult = [[0 for i in range(size)] for i in range(size)]\n",
    "\n",
    "\tfor i in range(size):\n",
    "\t\tfor j in range(size):\n",
    "\t\t\tfor k in range(size):\n",
    "\t\t\t\tresult[i][j] = A[i][k] * B[k][j]\n",
    "\n",
    "\treturn result"
   ]
  },
  {
   "cell_type": "markdown",
   "metadata": {},
   "source": [
    "### **Task 01**\n",
    "Load dataset and calculate following things:\n",
    "\n",
    "- Total number of nodes\n",
    "- Total number of edges\n",
    "- Degree of each node\n",
    "- Average node degree\n",
    "- Graph density"
   ]
  },
  {
   "cell_type": "code",
   "execution_count": null,
   "metadata": {},
   "outputs": [],
   "source": []
  },
  {
   "cell_type": "markdown",
   "metadata": {},
   "source": [
    "### **Task 02**\n",
    "How many components does loaded graph have?"
   ]
  },
  {
   "cell_type": "code",
   "execution_count": null,
   "metadata": {},
   "outputs": [],
   "source": []
  },
  {
   "cell_type": "markdown",
   "metadata": {},
   "source": [
    "### **Task 03**\n",
    "Calculate average, global and local clustering coefficient for each node in dataset."
   ]
  },
  {
   "cell_type": "code",
   "execution_count": null,
   "metadata": {},
   "outputs": [],
   "source": []
  },
  {
   "cell_type": "markdown",
   "metadata": {},
   "source": [
    "### **Task 04**\n",
    "Which previously calculated metric can be used to find cliques in a graph?</br>\n",
    "Try to find some cliques larger than 3 in dataset."
   ]
  },
  {
   "cell_type": "code",
   "execution_count": null,
   "metadata": {},
   "outputs": [],
   "source": []
  },
  {
   "cell_type": "markdown",
   "metadata": {},
   "source": [
    "### **Task 05**\n",
    "Calculate closeness centrality for each node in graph.</br>\n",
    "Who is the most central node in a graph? What's the diameter of this graph?\n"
   ]
  },
  {
   "cell_type": "code",
   "execution_count": null,
   "metadata": {},
   "outputs": [],
   "source": []
  },
  {
   "cell_type": "markdown",
   "metadata": {},
   "source": [
    "### **Task 06**\n",
    "Find top ten node pairs in graph that have the largest number of common neighbours.\n"
   ]
  },
  {
   "cell_type": "code",
   "execution_count": null,
   "metadata": {},
   "outputs": [],
   "source": []
  },
  {
   "cell_type": "markdown",
   "metadata": {},
   "source": [
    "### **Task 07**\n",
    "Calculate Adamic-Adar index, Jaccard coefficient and Preferential attachment metricies for each node pair in graph.\n"
   ]
  },
  {
   "cell_type": "code",
   "execution_count": null,
   "metadata": {},
   "outputs": [],
   "source": []
  },
  {
   "cell_type": "markdown",
   "metadata": {},
   "source": [
    "### **Task 08** (experimental)\n",
    "Compare link prediction metricies and determine which metric gives the best predictions and highest accuracy?"
   ]
  },
  {
   "cell_type": "code",
   "execution_count": null,
   "metadata": {},
   "outputs": [],
   "source": []
  }
 ],
 "metadata": {
  "kernelspec": {
   "display_name": "Python 3",
   "language": "python",
   "name": "python3"
  },
  "language_info": {
   "codemirror_mode": {
    "name": "ipython",
    "version": 3
   },
   "file_extension": ".py",
   "mimetype": "text/x-python",
   "name": "python",
   "nbconvert_exporter": "python",
   "pygments_lexer": "ipython3",
   "version": "3.11.3"
  },
  "orig_nbformat": 4
 },
 "nbformat": 4,
 "nbformat_minor": 2
}
