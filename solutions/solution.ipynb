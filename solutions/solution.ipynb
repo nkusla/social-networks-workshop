{
 "cells": [
  {
   "cell_type": "markdown",
   "metadata": {},
   "source": [
    "# Social networks workshop"
   ]
  },
  {
   "cell_type": "markdown",
   "metadata": {},
   "source": [
    "### Some useful functions"
   ]
  },
  {
   "cell_type": "code",
   "execution_count": null,
   "metadata": {},
   "outputs": [],
   "source": [
    "def print_graph(graph: list, total_num_nodes: int) -> None:\n",
    "\tfor i in range(total_num_nodes):\n",
    "\t\tfor j in range(total_num_nodes):\n",
    "\t\t\tprint(graph[i][j], end=\" \")\n",
    "\t\tprint()"
   ]
  },
  {
   "cell_type": "code",
   "execution_count": null,
   "metadata": {},
   "outputs": [],
   "source": [
    "def square_matrix_mul(A: list, B: list, size: int) -> list:\n",
    "\tresult = [[0 for i in range(size)] for i in range(size)]\n",
    "\n",
    "\tfor i in range(size):\n",
    "\t\tfor j in range(size):\n",
    "\t\t\tfor k in range(size):\n",
    "\t\t\t\tresult[i][j] = A[i][k] * B[k][j]\n",
    "\n",
    "\treturn result"
   ]
  },
  {
   "cell_type": "markdown",
   "metadata": {},
   "source": [
    "### **Task 01**\n",
    "Load dataset and calculate following things:\n",
    "\n",
    "- Total number of nodes\n",
    "- Total number of edges\n",
    "- Degree of each node\n",
    "- Average node degree\n",
    "- Graph density"
   ]
  },
  {
   "cell_type": "code",
   "execution_count": null,
   "metadata": {},
   "outputs": [],
   "source": [
    "dataset_path = \"../datasets/karate_club.csv\"\n",
    "\n",
    "total_num_nodes = 0\n",
    "max_node_id = 0\n",
    "total_num_edges = 0\n",
    "\n",
    "with open(dataset_path) as dataset_file:\n",
    "\t\n",
    "\tfor line in dataset_file.readlines():\n",
    "\t\tline = line.strip(\"\\n\")\n",
    "\t\tnode_1, node_2 = line.split(\",\")\n",
    "\t\t\n",
    "\t\tnode_1 = int(node_1)\n",
    "\t\tnode_2 = int(node_2)\n",
    "\t\n",
    "\t\tif(max_node_id < node_1):\n",
    "\t\t\tmax_node_id = node_1\n",
    "\n",
    "\t\tif(max_node_id < node_2):\n",
    "\t\t\tmax_node_id = node_2\n",
    "\n",
    "\t\ttotal_num_edges += 1\n",
    "\n",
    "total_num_nodes = max_node_id + 1\n",
    "\n",
    "print(\"Total number of nodes: \", total_num_nodes)\n",
    "print(\"Total number of edges: \", total_num_edges)"
   ]
  },
  {
   "cell_type": "code",
   "execution_count": null,
   "metadata": {},
   "outputs": [],
   "source": [
    "graph = [[0 for i in range(total_num_nodes)] for i in range(total_num_nodes)]\n",
    "\n",
    "# print_graph(graph, total_num_nodes)"
   ]
  },
  {
   "cell_type": "code",
   "execution_count": null,
   "metadata": {},
   "outputs": [],
   "source": [
    "with open(dataset_path) as dataset_file:\n",
    "\t\n",
    "\tfor line in dataset_file.readlines():\n",
    "\t\tline = line.strip(\"\\n\")\n",
    "\t\tnode_1, node_2 = line.split(\",\")\n",
    "\n",
    "\t\tnode_1 = int(node_1)\n",
    "\t\tnode_2 = int(node_2)\n",
    "\n",
    "\t\tgraph[node_1][node_2] = 1\n",
    "\t\tgraph[node_2][node_1] = 1\n",
    "\n",
    "# print_graph(graph, total_num_nodes)"
   ]
  },
  {
   "cell_type": "code",
   "execution_count": null,
   "metadata": {},
   "outputs": [],
   "source": [
    "degree = 0\n",
    "average_node_degree = 0\n",
    "\n",
    "print(\"Node, Degree\")\n",
    "for i in range(total_num_nodes):\n",
    "\tprint(i, end=\", \")\n",
    "\t\n",
    "\tfor j in range(total_num_nodes):\n",
    "\t\tdegree += graph[i][j]\n",
    "\n",
    "\taverage_node_degree += degree\n",
    "\n",
    "\tprint(degree)\n",
    "\tdegree = 0\n",
    "\n",
    "average_node_degree /= total_num_nodes\n",
    "print(\"\\nAverage node degree: \", average_node_degree)"
   ]
  },
  {
   "cell_type": "code",
   "execution_count": null,
   "metadata": {},
   "outputs": [],
   "source": [
    "max_num_edges = total_num_nodes * (total_num_nodes - 1) / 2\n",
    "print(\"Graph density: \", total_num_edges / max_num_edges)"
   ]
  },
  {
   "cell_type": "markdown",
   "metadata": {},
   "source": [
    "### **Task 02**\n",
    "How many components does loaded graph have?"
   ]
  },
  {
   "cell_type": "code",
   "execution_count": null,
   "metadata": {},
   "outputs": [],
   "source": [
    "def BFS(graph: list, total_num_nodes: int, source: int, visited: list=None) -> list:\n",
    "\t\n",
    "\tif visited[source] == True:\n",
    "\t\treturn visited\n",
    "\n",
    "\tif visited == None:\n",
    "\t\tvisited = [False] * total_num_nodes\n",
    "\t\n",
    "\tqueue = []\n",
    "\t\n",
    "\tqueue.append(source)\n",
    "\tvisited[source] = True\n",
    "\n",
    "\twhile queue:\n",
    "\t\tnode = queue.pop(0)\n",
    "\n",
    "\t\tfor i in range(total_num_nodes):\n",
    "\t\t\tif graph[node][i] == 1 and visited[i] == False:\n",
    "\t\t\t\tqueue.append(i)\n",
    "\t\t\t\tvisited[i] = True\n",
    "\n",
    "\treturn visited"
   ]
  },
  {
   "cell_type": "code",
   "execution_count": null,
   "metadata": {},
   "outputs": [],
   "source": [
    "num_components = 0\n",
    "\n",
    "visited = [False] * total_num_nodes\n",
    "for i in range(total_num_nodes):\n",
    "    if visited[i] == False:\n",
    "        visited = BFS(graph, total_num_nodes, i, visited)\n",
    "        num_components += 1\n",
    "        \n",
    "print(\"Number of components: \", num_components)"
   ]
  },
  {
   "cell_type": "markdown",
   "metadata": {},
   "source": [
    "### **Task 03**\n",
    "Calculate average, global and local clustering coefficient for each node in dataset."
   ]
  },
  {
   "cell_type": "code",
   "execution_count": null,
   "metadata": {},
   "outputs": [],
   "source": [
    "def local_clustering_coeff(graph: list, total_num_nodes: int, node: int) -> int:\n",
    "\t\n",
    "\tneighbours = []\n",
    "\tdegree = 0\n",
    "\tnum_neighbours_edges = 0\n",
    "\n",
    "\tfor i in range(total_num_nodes):\n",
    "\t\tif graph[node][i] == 1:\n",
    "\t\t\tdegree += 1\n",
    "\t\t\tneighbours.append(i)\n",
    "\n",
    "\tif degree == 1:\n",
    "\t\treturn 1\n",
    "\n",
    "\tfor i in neighbours:\n",
    "\t\tfor j in neighbours:\n",
    "\t\t\tif graph[i][j] == 1:\n",
    "\t\t\t\tnum_neighbours_edges += 1\n",
    "\n",
    "\tnum_neighbours_edges /= 2\n",
    "\n",
    "\tlocal_clustering_coeff = num_neighbours_edges / (degree * (degree - 1) / 2)\n",
    "\treturn local_clustering_coeff"
   ]
  },
  {
   "cell_type": "code",
   "execution_count": null,
   "metadata": {},
   "outputs": [],
   "source": [
    "average_clustering_coeff = 0\n",
    "global_clustering_coeff = 0\n",
    "\n",
    "print(\"Node, Local clustering coeff\")\n",
    "for i in range(total_num_nodes):\n",
    "    clustering_coeff = local_clustering_coeff(graph, total_num_nodes, i)\n",
    "    print(i, clustering_coeff)\n",
    "    average_clustering_coeff += clustering_coeff\n",
    "\n",
    "# print(\"\\nGlobal clustering coefficient: \", global_clustering_coeff(graph))\n",
    "print(\"\\nAverage clustering coefficient: \", average_clustering_coeff)"
   ]
  }
 ],
 "metadata": {
  "kernelspec": {
   "display_name": "Python 3",
   "language": "python",
   "name": "python3"
  },
  "language_info": {
   "codemirror_mode": {
    "name": "ipython",
    "version": 3
   },
   "file_extension": ".py",
   "mimetype": "text/x-python",
   "name": "python",
   "nbconvert_exporter": "python",
   "pygments_lexer": "ipython3",
   "version": "3.11.3"
  },
  "orig_nbformat": 4
 },
 "nbformat": 4,
 "nbformat_minor": 2
}
